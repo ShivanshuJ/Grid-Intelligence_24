{
 "cells": [
  {
   "cell_type": "markdown",
   "metadata": {},
   "source": [
    "ASSIGNMENT ON DATA PROCESSING AND FEATURE ENGINEERING"
   ]
  },
  {
   "cell_type": "markdown",
   "metadata": {},
   "source": [
    " Loading required Libraries"
   ]
  },
  {
   "cell_type": "code",
   "execution_count": 125,
   "metadata": {},
   "outputs": [],
   "source": [
    "import pandas as pd\n",
    "import numpy as np\n",
    "import matplotlib.pyplot as plt"
   ]
  },
  {
   "cell_type": "markdown",
   "metadata": {},
   "source": [
    "1. Load the dataset and display first five rows, further summarizing the dataset using descriptive statistics"
   ]
  },
  {
   "cell_type": "code",
   "execution_count": 126,
   "metadata": {},
   "outputs": [],
   "source": [
    "#Loading the dataset in pandas dataframe\n",
    "df = pd.read_csv('electrical_dataset.csv')"
   ]
  },
  {
   "cell_type": "code",
   "execution_count": 127,
   "metadata": {},
   "outputs": [
    {
     "data": {
      "text/html": [
       "<div>\n",
       "<style scoped>\n",
       "    .dataframe tbody tr th:only-of-type {\n",
       "        vertical-align: middle;\n",
       "    }\n",
       "\n",
       "    .dataframe tbody tr th {\n",
       "        vertical-align: top;\n",
       "    }\n",
       "\n",
       "    .dataframe thead th {\n",
       "        text-align: right;\n",
       "    }\n",
       "</style>\n",
       "<table border=\"1\" class=\"dataframe\">\n",
       "  <thead>\n",
       "    <tr style=\"text-align: right;\">\n",
       "      <th></th>\n",
       "      <th>Timestamp</th>\n",
       "      <th>Voltage (V)</th>\n",
       "      <th>Current (I)</th>\n",
       "      <th>Power (W)</th>\n",
       "      <th>Power_Factor</th>\n",
       "      <th>Temperature (°C)</th>\n",
       "      <th>Humidity (%)</th>\n",
       "    </tr>\n",
       "  </thead>\n",
       "  <tbody>\n",
       "    <tr>\n",
       "      <th>0</th>\n",
       "      <td>2024-12-01 00:00:00</td>\n",
       "      <td>222.483571</td>\n",
       "      <td>4.642510</td>\n",
       "      <td>965.023943</td>\n",
       "      <td>0.880626</td>\n",
       "      <td>21.734855</td>\n",
       "      <td>45.494834</td>\n",
       "    </tr>\n",
       "    <tr>\n",
       "      <th>1</th>\n",
       "      <td>2024-12-01 00:01:00</td>\n",
       "      <td>219.308678</td>\n",
       "      <td>4.206038</td>\n",
       "      <td>894.158159</td>\n",
       "      <td>0.939144</td>\n",
       "      <td>NaN</td>\n",
       "      <td>46.477508</td>\n",
       "    </tr>\n",
       "    <tr>\n",
       "      <th>2</th>\n",
       "      <td>2024-12-01 00:02:00</td>\n",
       "      <td>223.238443</td>\n",
       "      <td>4.143615</td>\n",
       "      <td>NaN</td>\n",
       "      <td>0.864156</td>\n",
       "      <td>17.952615</td>\n",
       "      <td>64.195316</td>\n",
       "    </tr>\n",
       "    <tr>\n",
       "      <th>3</th>\n",
       "      <td>2024-12-01 00:03:00</td>\n",
       "      <td>227.615149</td>\n",
       "      <td>4.188552</td>\n",
       "      <td>1006.917263</td>\n",
       "      <td>0.926711</td>\n",
       "      <td>19.613098</td>\n",
       "      <td>37.214868</td>\n",
       "    </tr>\n",
       "    <tr>\n",
       "      <th>4</th>\n",
       "      <td>2024-12-01 00:04:00</td>\n",
       "      <td>NaN</td>\n",
       "      <td>5.165739</td>\n",
       "      <td>1081.262142</td>\n",
       "      <td>0.931754</td>\n",
       "      <td>21.783244</td>\n",
       "      <td>55.741660</td>\n",
       "    </tr>\n",
       "  </tbody>\n",
       "</table>\n",
       "</div>"
      ],
      "text/plain": [
       "             Timestamp  Voltage (V)  Current (I)    Power (W)  Power_Factor  \\\n",
       "0  2024-12-01 00:00:00   222.483571     4.642510   965.023943      0.880626   \n",
       "1  2024-12-01 00:01:00   219.308678     4.206038   894.158159      0.939144   \n",
       "2  2024-12-01 00:02:00   223.238443     4.143615          NaN      0.864156   \n",
       "3  2024-12-01 00:03:00   227.615149     4.188552  1006.917263      0.926711   \n",
       "4  2024-12-01 00:04:00          NaN     5.165739  1081.262142      0.931754   \n",
       "\n",
       "   Temperature (°C)  Humidity (%)  \n",
       "0         21.734855     45.494834  \n",
       "1               NaN     46.477508  \n",
       "2         17.952615     64.195316  \n",
       "3         19.613098     37.214868  \n",
       "4         21.783244     55.741660  "
      ]
     },
     "execution_count": 127,
     "metadata": {},
     "output_type": "execute_result"
    }
   ],
   "source": [
    "#Displaying first five rows\n",
    "df.head()"
   ]
  },
  {
   "cell_type": "code",
   "execution_count": 128,
   "metadata": {},
   "outputs": [
    {
     "data": {
      "text/html": [
       "<div>\n",
       "<style scoped>\n",
       "    .dataframe tbody tr th:only-of-type {\n",
       "        vertical-align: middle;\n",
       "    }\n",
       "\n",
       "    .dataframe tbody tr th {\n",
       "        vertical-align: top;\n",
       "    }\n",
       "\n",
       "    .dataframe thead th {\n",
       "        text-align: right;\n",
       "    }\n",
       "</style>\n",
       "<table border=\"1\" class=\"dataframe\">\n",
       "  <thead>\n",
       "    <tr style=\"text-align: right;\">\n",
       "      <th></th>\n",
       "      <th>Voltage (V)</th>\n",
       "      <th>Current (I)</th>\n",
       "      <th>Power (W)</th>\n",
       "      <th>Power_Factor</th>\n",
       "      <th>Temperature (°C)</th>\n",
       "      <th>Humidity (%)</th>\n",
       "    </tr>\n",
       "  </thead>\n",
       "  <tbody>\n",
       "    <tr>\n",
       "      <th>count</th>\n",
       "      <td>9500.000000</td>\n",
       "      <td>9600.000000</td>\n",
       "      <td>9700.000000</td>\n",
       "      <td>9800.000000</td>\n",
       "      <td>9700.000000</td>\n",
       "      <td>9600.000000</td>\n",
       "    </tr>\n",
       "    <tr>\n",
       "      <th>mean</th>\n",
       "      <td>219.992912</td>\n",
       "      <td>5.014070</td>\n",
       "      <td>1102.598216</td>\n",
       "      <td>0.919970</td>\n",
       "      <td>20.003119</td>\n",
       "      <td>50.003748</td>\n",
       "    </tr>\n",
       "    <tr>\n",
       "      <th>std</th>\n",
       "      <td>5.007974</td>\n",
       "      <td>0.579586</td>\n",
       "      <td>143.312091</td>\n",
       "      <td>0.040413</td>\n",
       "      <td>7.363127</td>\n",
       "      <td>11.547591</td>\n",
       "    </tr>\n",
       "    <tr>\n",
       "      <th>min</th>\n",
       "      <td>200.387999</td>\n",
       "      <td>4.000096</td>\n",
       "      <td>747.956441</td>\n",
       "      <td>0.850001</td>\n",
       "      <td>3.005629</td>\n",
       "      <td>30.000337</td>\n",
       "    </tr>\n",
       "    <tr>\n",
       "      <th>25%</th>\n",
       "      <td>216.654181</td>\n",
       "      <td>4.514213</td>\n",
       "      <td>989.925889</td>\n",
       "      <td>0.885059</td>\n",
       "      <td>13.225365</td>\n",
       "      <td>40.117437</td>\n",
       "    </tr>\n",
       "    <tr>\n",
       "      <th>50%</th>\n",
       "      <td>219.997444</td>\n",
       "      <td>5.020268</td>\n",
       "      <td>1100.829462</td>\n",
       "      <td>0.920172</td>\n",
       "      <td>20.011891</td>\n",
       "      <td>49.917048</td>\n",
       "    </tr>\n",
       "    <tr>\n",
       "      <th>75%</th>\n",
       "      <td>223.348834</td>\n",
       "      <td>5.515116</td>\n",
       "      <td>1207.908605</td>\n",
       "      <td>0.954773</td>\n",
       "      <td>26.657589</td>\n",
       "      <td>60.105216</td>\n",
       "    </tr>\n",
       "    <tr>\n",
       "      <th>max</th>\n",
       "      <td>239.631189</td>\n",
       "      <td>5.999850</td>\n",
       "      <td>1498.874098</td>\n",
       "      <td>0.989985</td>\n",
       "      <td>36.151952</td>\n",
       "      <td>69.997588</td>\n",
       "    </tr>\n",
       "  </tbody>\n",
       "</table>\n",
       "</div>"
      ],
      "text/plain": [
       "       Voltage (V)  Current (I)    Power (W)  Power_Factor  Temperature (°C)  \\\n",
       "count  9500.000000  9600.000000  9700.000000   9800.000000       9700.000000   \n",
       "mean    219.992912     5.014070  1102.598216      0.919970         20.003119   \n",
       "std       5.007974     0.579586   143.312091      0.040413          7.363127   \n",
       "min     200.387999     4.000096   747.956441      0.850001          3.005629   \n",
       "25%     216.654181     4.514213   989.925889      0.885059         13.225365   \n",
       "50%     219.997444     5.020268  1100.829462      0.920172         20.011891   \n",
       "75%     223.348834     5.515116  1207.908605      0.954773         26.657589   \n",
       "max     239.631189     5.999850  1498.874098      0.989985         36.151952   \n",
       "\n",
       "       Humidity (%)  \n",
       "count   9600.000000  \n",
       "mean      50.003748  \n",
       "std       11.547591  \n",
       "min       30.000337  \n",
       "25%       40.117437  \n",
       "50%       49.917048  \n",
       "75%       60.105216  \n",
       "max       69.997588  "
      ]
     },
     "execution_count": 128,
     "metadata": {},
     "output_type": "execute_result"
    }
   ],
   "source": [
    "#Summarizing the dataset\n",
    "df.describe()"
   ]
  },
  {
   "cell_type": "markdown",
   "metadata": {},
   "source": [
    "2. Identify columns of missing values and calculating percentage of missing values for each column, further imputing the missing values."
   ]
  },
  {
   "cell_type": "code",
   "execution_count": 129,
   "metadata": {},
   "outputs": [
    {
     "data": {
      "text/plain": [
       "Timestamp             0\n",
       "Voltage (V)         500\n",
       "Current (I)         400\n",
       "Power (W)           300\n",
       "Power_Factor        200\n",
       "Temperature (°C)    300\n",
       "Humidity (%)        400\n",
       "dtype: int64"
      ]
     },
     "execution_count": 129,
     "metadata": {},
     "output_type": "execute_result"
    }
   ],
   "source": [
    "#Identifying Columns with missing values\n",
    "df.isnull().sum()"
   ]
  },
  {
   "cell_type": "code",
   "execution_count": 130,
   "metadata": {},
   "outputs": [
    {
     "data": {
      "text/plain": [
       "Timestamp           0.0\n",
       "Voltage (V)         5.0\n",
       "Current (I)         4.0\n",
       "Power (W)           3.0\n",
       "Power_Factor        2.0\n",
       "Temperature (°C)    3.0\n",
       "Humidity (%)        4.0\n",
       "dtype: float64"
      ]
     },
     "execution_count": 130,
     "metadata": {},
     "output_type": "execute_result"
    }
   ],
   "source": [
    "#Percentage of Missing Values of each column\n",
    "(df.isnull().sum()/len(df))*100"
   ]
  },
  {
   "cell_type": "code",
   "execution_count": 131,
   "metadata": {},
   "outputs": [
    {
     "data": {
      "text/html": [
       "<div>\n",
       "<style scoped>\n",
       "    .dataframe tbody tr th:only-of-type {\n",
       "        vertical-align: middle;\n",
       "    }\n",
       "\n",
       "    .dataframe tbody tr th {\n",
       "        vertical-align: top;\n",
       "    }\n",
       "\n",
       "    .dataframe thead th {\n",
       "        text-align: right;\n",
       "    }\n",
       "</style>\n",
       "<table border=\"1\" class=\"dataframe\">\n",
       "  <thead>\n",
       "    <tr style=\"text-align: right;\">\n",
       "      <th></th>\n",
       "      <th>Timestamp</th>\n",
       "      <th>Voltage (V)</th>\n",
       "      <th>Current (I)</th>\n",
       "      <th>Power (W)</th>\n",
       "      <th>Power_Factor</th>\n",
       "      <th>Temperature (°C)</th>\n",
       "      <th>Humidity (%)</th>\n",
       "    </tr>\n",
       "  </thead>\n",
       "  <tbody>\n",
       "    <tr>\n",
       "      <th>0</th>\n",
       "      <td>2024-12-01 00:00:00</td>\n",
       "      <td>222.483571</td>\n",
       "      <td>4.642510</td>\n",
       "      <td>965.023943</td>\n",
       "      <td>0.880626</td>\n",
       "      <td>21.734855</td>\n",
       "      <td>45.494834</td>\n",
       "    </tr>\n",
       "    <tr>\n",
       "      <th>1</th>\n",
       "      <td>2024-12-01 00:01:00</td>\n",
       "      <td>219.308678</td>\n",
       "      <td>4.206038</td>\n",
       "      <td>894.158159</td>\n",
       "      <td>0.939144</td>\n",
       "      <td>21.734855</td>\n",
       "      <td>46.477508</td>\n",
       "    </tr>\n",
       "    <tr>\n",
       "      <th>2</th>\n",
       "      <td>2024-12-01 00:02:00</td>\n",
       "      <td>223.238443</td>\n",
       "      <td>4.143615</td>\n",
       "      <td>894.158159</td>\n",
       "      <td>0.864156</td>\n",
       "      <td>17.952615</td>\n",
       "      <td>64.195316</td>\n",
       "    </tr>\n",
       "    <tr>\n",
       "      <th>3</th>\n",
       "      <td>2024-12-01 00:03:00</td>\n",
       "      <td>227.615149</td>\n",
       "      <td>4.188552</td>\n",
       "      <td>1006.917263</td>\n",
       "      <td>0.926711</td>\n",
       "      <td>19.613098</td>\n",
       "      <td>37.214868</td>\n",
       "    </tr>\n",
       "    <tr>\n",
       "      <th>4</th>\n",
       "      <td>2024-12-01 00:04:00</td>\n",
       "      <td>227.615149</td>\n",
       "      <td>5.165739</td>\n",
       "      <td>1081.262142</td>\n",
       "      <td>0.931754</td>\n",
       "      <td>21.783244</td>\n",
       "      <td>55.741660</td>\n",
       "    </tr>\n",
       "    <tr>\n",
       "      <th>...</th>\n",
       "      <td>...</td>\n",
       "      <td>...</td>\n",
       "      <td>...</td>\n",
       "      <td>...</td>\n",
       "      <td>...</td>\n",
       "      <td>...</td>\n",
       "      <td>...</td>\n",
       "    </tr>\n",
       "    <tr>\n",
       "      <th>9995</th>\n",
       "      <td>2024-12-07 22:35:00</td>\n",
       "      <td>226.505510</td>\n",
       "      <td>5.365876</td>\n",
       "      <td>1186.219693</td>\n",
       "      <td>0.858940</td>\n",
       "      <td>20.553140</td>\n",
       "      <td>65.807219</td>\n",
       "    </tr>\n",
       "    <tr>\n",
       "      <th>9996</th>\n",
       "      <td>2024-12-07 22:36:00</td>\n",
       "      <td>226.505510</td>\n",
       "      <td>5.699823</td>\n",
       "      <td>1219.255942</td>\n",
       "      <td>0.890498</td>\n",
       "      <td>18.586842</td>\n",
       "      <td>35.774593</td>\n",
       "    </tr>\n",
       "    <tr>\n",
       "      <th>9997</th>\n",
       "      <td>2024-12-07 22:37:00</td>\n",
       "      <td>216.473416</td>\n",
       "      <td>4.431447</td>\n",
       "      <td>992.233503</td>\n",
       "      <td>0.974504</td>\n",
       "      <td>20.791749</td>\n",
       "      <td>61.015434</td>\n",
       "    </tr>\n",
       "    <tr>\n",
       "      <th>9998</th>\n",
       "      <td>2024-12-07 22:38:00</td>\n",
       "      <td>222.478828</td>\n",
       "      <td>5.507653</td>\n",
       "      <td>1260.912502</td>\n",
       "      <td>0.883132</td>\n",
       "      <td>19.020961</td>\n",
       "      <td>61.015434</td>\n",
       "    </tr>\n",
       "    <tr>\n",
       "      <th>9999</th>\n",
       "      <td>2024-12-07 22:39:00</td>\n",
       "      <td>223.221942</td>\n",
       "      <td>5.507653</td>\n",
       "      <td>1379.821738</td>\n",
       "      <td>0.989435</td>\n",
       "      <td>20.248707</td>\n",
       "      <td>65.940787</td>\n",
       "    </tr>\n",
       "  </tbody>\n",
       "</table>\n",
       "<p>10000 rows × 7 columns</p>\n",
       "</div>"
      ],
      "text/plain": [
       "                Timestamp  Voltage (V)  Current (I)    Power (W)  \\\n",
       "0     2024-12-01 00:00:00   222.483571     4.642510   965.023943   \n",
       "1     2024-12-01 00:01:00   219.308678     4.206038   894.158159   \n",
       "2     2024-12-01 00:02:00   223.238443     4.143615   894.158159   \n",
       "3     2024-12-01 00:03:00   227.615149     4.188552  1006.917263   \n",
       "4     2024-12-01 00:04:00   227.615149     5.165739  1081.262142   \n",
       "...                   ...          ...          ...          ...   \n",
       "9995  2024-12-07 22:35:00   226.505510     5.365876  1186.219693   \n",
       "9996  2024-12-07 22:36:00   226.505510     5.699823  1219.255942   \n",
       "9997  2024-12-07 22:37:00   216.473416     4.431447   992.233503   \n",
       "9998  2024-12-07 22:38:00   222.478828     5.507653  1260.912502   \n",
       "9999  2024-12-07 22:39:00   223.221942     5.507653  1379.821738   \n",
       "\n",
       "      Power_Factor  Temperature (°C)  Humidity (%)  \n",
       "0         0.880626         21.734855     45.494834  \n",
       "1         0.939144         21.734855     46.477508  \n",
       "2         0.864156         17.952615     64.195316  \n",
       "3         0.926711         19.613098     37.214868  \n",
       "4         0.931754         21.783244     55.741660  \n",
       "...            ...               ...           ...  \n",
       "9995      0.858940         20.553140     65.807219  \n",
       "9996      0.890498         18.586842     35.774593  \n",
       "9997      0.974504         20.791749     61.015434  \n",
       "9998      0.883132         19.020961     61.015434  \n",
       "9999      0.989435         20.248707     65.940787  \n",
       "\n",
       "[10000 rows x 7 columns]"
      ]
     },
     "execution_count": 131,
     "metadata": {},
     "output_type": "execute_result"
    }
   ],
   "source": [
    "#Imputing the missing Values\n",
    "df.ffill()\n",
    "\n",
    "#I have used Forward fill here because the percentage of missing values is very less as compared to the amount of data and the data in each column is also somewhat similar to each other so filling the missing columns with previous data seems the best."
   ]
  },
  {
   "cell_type": "markdown",
   "metadata": {},
   "source": [
    "3. Filling"
   ]
  },
  {
   "cell_type": "code",
   "execution_count": 132,
   "metadata": {},
   "outputs": [],
   "source": [
    "# Step 1: Separate numerical and categorical columns\n",
    "numerical_cols = df.select_dtypes(include='number').columns\n",
    "categorical_cols = df.select_dtypes(include='object').columns\n",
    "\n",
    "# Step 2: Fill missing values in numerical columns with mean or median\n",
    "# We will use mean for numerical columns here\n",
    "df[numerical_cols] = df[numerical_cols].fillna(df[numerical_cols].mean())\n",
    "\n",
    "# Step 3: Fill missing values in categorical columns with mode\n",
    "for col in categorical_cols:\n",
    "    df[col] = df[col].fillna(df[col].mode()[0])\n",
    "\n",
    "#Used mean for numerical columns as values were not very stretched apart thus mean would give a better avg value."
   ]
  },
  {
   "cell_type": "markdown",
   "metadata": {},
   "source": [
    "4. Detecting outliers in voltage and power column using IQR method"
   ]
  },
  {
   "cell_type": "code",
   "execution_count": 133,
   "metadata": {},
   "outputs": [
    {
     "name": "stdout",
     "output_type": "stream",
     "text": [
      "                Timestamp  Voltage (V)  Current (I)    Power (W)  \\\n",
      "74    2024-12-01 01:14:00   206.901274     5.014070  1063.302317   \n",
      "179   2024-12-01 02:59:00   233.600846     5.768140  1265.192873   \n",
      "209   2024-12-01 03:29:00   239.263657     5.332611  1325.738027   \n",
      "262   2024-12-01 04:22:00   203.793663     4.904204  1032.586025   \n",
      "478   2024-12-01 07:58:00   235.394404     5.888664  1309.026006   \n",
      "...                   ...          ...          ...          ...   \n",
      "9285  2024-12-07 10:45:00   207.391976     5.815520  1281.353283   \n",
      "9573  2024-12-07 15:33:00   206.273502     4.553130   934.529383   \n",
      "9606  2024-12-07 16:06:00   205.990442     5.863167  1102.598216   \n",
      "9692  2024-12-07 17:32:00   232.651848     5.170661  1309.840735   \n",
      "9770  2024-12-07 18:50:00   200.387999     4.604343  1006.444522   \n",
      "\n",
      "      Power_Factor  Temperature (°C)  Humidity (%)  \n",
      "74        0.977938         22.153156     61.053240  \n",
      "179       0.948982         24.893645     49.810285  \n",
      "209       0.869527         23.926902     44.833600  \n",
      "262       0.939196         31.723683     54.366552  \n",
      "478       0.886156         32.290869     58.652762  \n",
      "...            ...               ...           ...  \n",
      "9285      0.920837         12.951760     34.961579  \n",
      "9573      0.865913          3.005629     50.003748  \n",
      "9606      0.943246         10.371510     49.044666  \n",
      "9692      0.934906         20.003119     68.389202  \n",
      "9770      0.867822         14.231879     50.003748  \n",
      "\n",
      "[127 rows x 7 columns]\n"
     ]
    }
   ],
   "source": [
    "#Calculating Outliers for the column Voltage\n",
    "\n",
    "# Calculate Q1, Q3, and IQR\n",
    "Q1 = df['Voltage (V)'].quantile(0.25)\n",
    "Q3 = df['Voltage (V)'].quantile(0.75)\n",
    "IQR = Q3 - Q1\n",
    "\n",
    "# Define bounds\n",
    "lower_bound = Q1 - 1.5 * IQR\n",
    "upper_bound = Q3 + 1.5 * IQR\n",
    "\n",
    "# Identify outliers\n",
    "outliers = df[(df['Voltage (V)'] < lower_bound) | (df['Voltage (V)'] > upper_bound)]\n",
    "print(outliers)"
   ]
  },
  {
   "cell_type": "code",
   "execution_count": 134,
   "metadata": {},
   "outputs": [
    {
     "name": "stdout",
     "output_type": "stream",
     "text": [
      "Empty DataFrame\n",
      "Columns: [Timestamp, Voltage (V), Current (I), Power (W), Power_Factor, Temperature (°C), Humidity (%)]\n",
      "Index: []\n"
     ]
    }
   ],
   "source": [
    "#Calculating Outliers for the column Power (W)\n",
    "\n",
    "# Calculate Q1, Q3, and IQR\n",
    "Q2 = df['Power (W)'].quantile(0.25)\n",
    "Q4 = df['Power (W)'].quantile(0.75)\n",
    "IQR = Q4 - Q2\n",
    "\n",
    "# Define bounds\n",
    "lower_bound = Q2 - 1.5 * IQR\n",
    "upper_bound = Q4 + 1.5 * IQR\n",
    "\n",
    "# Identify outliers\n",
    "outlier = df[(df['Power (W)'] < lower_bound) | (df['Power (W)'] > upper_bound)]\n",
    "print(outlier)"
   ]
  },
  {
   "cell_type": "code",
   "execution_count": 135,
   "metadata": {},
   "outputs": [
    {
     "data": {
      "text/plain": [
       "Timestamp           127\n",
       "Voltage (V)         127\n",
       "Current (I)         127\n",
       "Power (W)           127\n",
       "Power_Factor        127\n",
       "Temperature (°C)    127\n",
       "Humidity (%)        127\n",
       "dtype: int64"
      ]
     },
     "execution_count": 135,
     "metadata": {},
     "output_type": "execute_result"
    }
   ],
   "source": [
    "outliers.count()"
   ]
  },
  {
   "cell_type": "markdown",
   "metadata": {},
   "source": [
    "5. Normalize..."
   ]
  },
  {
   "cell_type": "code",
   "execution_count": 136,
   "metadata": {},
   "outputs": [
    {
     "name": "stdout",
     "output_type": "stream",
     "text": [
      "                Timestamp  Voltage (V)  Current (I)    Power (W)  \\\n",
      "0     2024-12-01 00:00:00   222.483571     4.642510   965.023943   \n",
      "1     2024-12-01 00:01:00   219.308678     4.206038   894.158159   \n",
      "2     2024-12-01 00:02:00   223.238443     4.143615  1102.598216   \n",
      "3     2024-12-01 00:03:00   227.615149     4.188552  1006.917263   \n",
      "4     2024-12-01 00:04:00   219.992912     5.165739  1081.262142   \n",
      "...                   ...          ...          ...          ...   \n",
      "9995  2024-12-07 22:35:00   226.505510     5.365876  1186.219693   \n",
      "9996  2024-12-07 22:36:00   219.992912     5.699823  1219.255942   \n",
      "9997  2024-12-07 22:37:00   216.473416     4.431447   992.233503   \n",
      "9998  2024-12-07 22:38:00   222.478828     5.507653  1260.912502   \n",
      "9999  2024-12-07 22:39:00   223.221942     5.014070  1379.821738   \n",
      "\n",
      "      Power_Factor  Temperature (°C)  Humidity (%)  Column_scaled  \n",
      "0         0.880626         21.734855     45.494834       0.289070  \n",
      "1         0.939144         20.003119     46.477508       0.194697  \n",
      "2         0.864156         17.952615     64.195316       0.472278  \n",
      "3         0.926711         19.613098     37.214868       0.344859  \n",
      "4         0.931754         21.783244     55.741660       0.443865  \n",
      "...            ...               ...           ...            ...  \n",
      "9995      0.858940         20.553140     65.807219       0.583637  \n",
      "9996      0.890498         18.586842     35.774593       0.627631  \n",
      "9997      0.974504         20.791749     61.015434       0.325305  \n",
      "9998      0.883132         19.020961     50.003748       0.683106  \n",
      "9999      0.989435         20.248707     65.940787       0.841458  \n",
      "\n",
      "[10000 rows x 8 columns]\n"
     ]
    }
   ],
   "source": [
    "# Min-Max Scaling\n",
    "df['Column_scaled'] = (df['Power (W)'] - df['Power (W)'].min()) / (df['Power (W)'].max() - df['Power (W)'].min())\n",
    "print(df)\n",
    "#transformed data is between 0 and 1"
   ]
  },
  {
   "cell_type": "markdown",
   "metadata": {},
   "source": [
    "6.New Feature 'Shift'"
   ]
  },
  {
   "cell_type": "code",
   "execution_count": 137,
   "metadata": {},
   "outputs": [],
   "source": [
    "# Step 1: Convert the Timestamp column to datetime\n",
    "df['Timestamp'] = pd.to_datetime(df['Timestamp'])\n",
    "\n",
    "# Step 2: Define the 'Shift' column based on the hour of the Timestamp\n",
    "def assign_shift(hour):\n",
    "    if 6 <= hour < 12:\n",
    "        return 'Morning'\n",
    "    elif 12 <= hour < 18:\n",
    "        return 'Afternoon'\n",
    "    elif 18 <= hour < 22:\n",
    "        return 'Evening'\n",
    "    else:\n",
    "        return 'Night'\n",
    "\n",
    "df['Shift'] = df['Timestamp'].dt.hour.apply(assign_shift)\n",
    "\n",
    "# Step 3: Group by 'Shift' and calculate the average Power (W) and Temperature (C)\n",
    "shift_grouped = df.groupby('Shift')[['Power (W)', 'Temperature (°C)']].mean()"
   ]
  },
  {
   "cell_type": "markdown",
   "metadata": {},
   "source": [
    "7. New Feature 'Energy_Efficiency'"
   ]
  },
  {
   "cell_type": "code",
   "execution_count": 138,
   "metadata": {},
   "outputs": [
    {
     "name": "stdout",
     "output_type": "stream",
     "text": [
      "               Timestamp  Voltage (V)  Current (I)    Power (W)  Power_Factor  \\\n",
      "0    2024-12-01 00:00:00   222.483571     4.642510   965.023943      0.880626   \n",
      "1    2024-12-01 00:01:00   219.308678     4.206038   894.158159      0.939144   \n",
      "2    2024-12-01 00:02:00   223.238443     4.143615  1102.598216      0.864156   \n",
      "3    2024-12-01 00:03:00   227.615149     4.188552  1006.917263      0.926711   \n",
      "4    2024-12-01 00:04:00   219.992912     5.165739  1081.262142      0.931754   \n",
      "...                  ...          ...          ...          ...           ...   \n",
      "9995 2024-12-07 22:35:00   226.505510     5.365876  1186.219693      0.858940   \n",
      "9996 2024-12-07 22:36:00   219.992912     5.699823  1219.255942      0.890498   \n",
      "9997 2024-12-07 22:37:00   216.473416     4.431447   992.233503      0.974504   \n",
      "9998 2024-12-07 22:38:00   222.478828     5.507653  1260.912502      0.883132   \n",
      "9999 2024-12-07 22:39:00   223.221942     5.014070  1379.821738      0.989435   \n",
      "\n",
      "      Temperature (°C)  Humidity (%)  Column_scaled  Shift  Energy_Efficiency  \n",
      "0            21.734855     45.494834       0.289070  Night         849.825214  \n",
      "1            20.003119     46.477508       0.194697  Night         839.743684  \n",
      "2            17.952615     64.195316       0.472278  Night         952.816878  \n",
      "3            19.613098     37.214868       0.344859  Night         933.121159  \n",
      "4            21.783244     55.741660       0.443865  Night        1007.470516  \n",
      "...                ...           ...            ...    ...                ...  \n",
      "9995         20.553140     65.807219       0.583637  Night        1018.891283  \n",
      "9996         18.586842     35.774593       0.627631  Night        1085.744394  \n",
      "9997         20.791749     61.015434       0.325305  Night         966.935790  \n",
      "9998         19.020961     50.003748       0.683106  Night        1113.552513  \n",
      "9999         20.248707     65.940787       0.841458  Night        1365.244118  \n",
      "\n",
      "[10000 rows x 10 columns]\n"
     ]
    }
   ],
   "source": [
    "df['Energy_Efficiency'] = df['Power (W)'] * df['Power_Factor']\n",
    "print(df)"
   ]
  },
  {
   "cell_type": "code",
   "execution_count": 139,
   "metadata": {},
   "outputs": [
    {
     "name": "stdout",
     "output_type": "stream",
     "text": [
      "-0.008361155052218065\n"
     ]
    }
   ],
   "source": [
    "correl = df['Energy_Efficiency'].corr(df['Temperature (°C)'])\n",
    "print(correl)"
   ]
  },
  {
   "cell_type": "markdown",
   "metadata": {},
   "source": [
    "8. Hourly Trends"
   ]
  },
  {
   "cell_type": "code",
   "execution_count": 140,
   "metadata": {},
   "outputs": [
    {
     "data": {
      "image/png": "[encoded data removed]",
      "text/plain": [
       "<Figure size 1000x600 with 1 Axes>"
      ]
     },
     "metadata": {},
     "output_type": "display_data"
    }
   ],
   "source": [
    "df['Timestamp'] = pd.to_datetime(df['Timestamp'])\n",
    "df['Hour'] = df['Timestamp'].dt.hour\n",
    "\n",
    "# Step 2: Group by hour and compute averages\n",
    "hourly_data = df.groupby('Hour')[['Voltage (V)', 'Current (I)']].mean().reset_index()\n",
    "\n",
    "# Step 3: Visualize hourly trends\n",
    "plt.figure(figsize=(10, 6))\n",
    "\n",
    "# Plot Voltage\n",
    "plt.plot(hourly_data['Hour'], hourly_data['Voltage (V)'], label='Voltage (V)', marker='o')\n",
    "# Plot Current\n",
    "plt.plot(hourly_data['Hour'], hourly_data['Current (I)'], label='Current (I)', marker='s')\n",
    "\n",
    "plt.title('Hourly Trends of Voltage and Current', fontsize=14)\n",
    "plt.xlabel('Hour of Day', fontsize=12)\n",
    "plt.ylabel('Average Values', fontsize=12)\n",
    "plt.xticks(hourly_data['Hour'])\n",
    "plt.legend()\n",
    "plt.grid(True)\n",
    "plt.show()"
   ]
  },
  {
   "cell_type": "markdown",
   "metadata": {},
   "source": [
    "9. Categorising Humidity in bins"
   ]
  },
  {
   "cell_type": "code",
   "execution_count": 141,
   "metadata": {},
   "outputs": [
    {
     "name": "stdout",
     "output_type": "stream",
     "text": [
      "               Timestamp  Voltage (V)  Current (I)    Power (W)  Power_Factor  \\\n",
      "0    2024-12-01 00:00:00   222.483571     4.642510   965.023943      0.880626   \n",
      "1    2024-12-01 00:01:00   219.308678     4.206038   894.158159      0.939144   \n",
      "2    2024-12-01 00:02:00   223.238443     4.143615  1102.598216      0.864156   \n",
      "3    2024-12-01 00:03:00   227.615149     4.188552  1006.917263      0.926711   \n",
      "4    2024-12-01 00:04:00   219.992912     5.165739  1081.262142      0.931754   \n",
      "...                  ...          ...          ...          ...           ...   \n",
      "9995 2024-12-07 22:35:00   226.505510     5.365876  1186.219693      0.858940   \n",
      "9996 2024-12-07 22:36:00   219.992912     5.699823  1219.255942      0.890498   \n",
      "9997 2024-12-07 22:37:00   216.473416     4.431447   992.233503      0.974504   \n",
      "9998 2024-12-07 22:38:00   222.478828     5.507653  1260.912502      0.883132   \n",
      "9999 2024-12-07 22:39:00   223.221942     5.014070  1379.821738      0.989435   \n",
      "\n",
      "      Temperature (°C)  Humidity (%)  Column_scaled  Shift  Energy_Efficiency  \\\n",
      "0            21.734855     45.494834       0.289070  Night         849.825214   \n",
      "1            20.003119     46.477508       0.194697  Night         839.743684   \n",
      "2            17.952615     64.195316       0.472278  Night         952.816878   \n",
      "3            19.613098     37.214868       0.344859  Night         933.121159   \n",
      "4            21.783244     55.741660       0.443865  Night        1007.470516   \n",
      "...                ...           ...            ...    ...                ...   \n",
      "9995         20.553140     65.807219       0.583637  Night        1018.891283   \n",
      "9996         18.586842     35.774593       0.627631  Night        1085.744394   \n",
      "9997         20.791749     61.015434       0.325305  Night         966.935790   \n",
      "9998         19.020961     50.003748       0.683106  Night        1113.552513   \n",
      "9999         20.248707     65.940787       0.841458  Night        1365.244118   \n",
      "\n",
      "      Hour Humidity_Category  Humidity_Enc  \n",
      "0        0               Low             0  \n",
      "1        0               Low             0  \n",
      "2        0              High             2  \n",
      "3        0               Low             0  \n",
      "4        0            Medium             1  \n",
      "...    ...               ...           ...  \n",
      "9995    22              High             2  \n",
      "9996    22               Low             0  \n",
      "9997    22              High             2  \n",
      "9998    22            Medium             1  \n",
      "9999    22              High             2  \n",
      "\n",
      "[10000 rows x 13 columns]\n"
     ]
    }
   ],
   "source": [
    "# Step 1: Categorize 'Humidity (%)' into bins\n",
    "bins = [30, 50, 60, 70]  # Define bin edges\n",
    "labels = ['Low', 'Medium', 'High']  # Define category labels\n",
    "df['Humidity_Category'] = pd.cut(df['Humidity (%)'], bins=bins, labels=labels, right=False)\n",
    "\n",
    "# Step 2: Encode categories numerically\n",
    "df['Humidity_Enc'] = pd.Categorical(df['Humidity_Category']).codes\n",
    "\n",
    "# Output results\n",
    "print(df)"
   ]
  },
  {
   "cell_type": "code",
   "execution_count": 142,
   "metadata": {},
   "outputs": [],
   "source": [
    "#creating new cleaned and preprocessed csv file\n",
    "df.to_csv(\"new_cleaned.csv\", index=False)"
   ]
  }
 ],
 "metadata": {
  "kernelspec": {
   "display_name": "Python 3",
   "language": "python",
   "name": "python3"
  },
  "language_info": {
   "codemirror_mode": {
    "name": "ipython",
    "version": 3
   },
   "file_extension": ".py",
   "mimetype": "text/x-python",
   "name": "python",
   "nbconvert_exporter": "python",
   "pygments_lexer": "ipython3",
   "version": "3.10.2"
  }
 },
 "nbformat": 4,
 "nbformat_minor": 2
}
